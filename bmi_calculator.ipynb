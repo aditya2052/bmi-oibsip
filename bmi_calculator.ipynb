{
  "nbformat": 4,
  "nbformat_minor": 0,
  "metadata": {
    "colab": {
      "private_outputs": true,
      "provenance": []
    },
    "kernelspec": {
      "name": "python3",
      "display_name": "Python 3"
    },
    "language_info": {
      "name": "python"
    }
  },
  "cells": [
    {
      "cell_type": "code",
      "source": [
        "def calculate_bmi(weight, height):\n",
        "    if height == 0:\n",
        "        return None  # To indicate an invalid BMI\n",
        "    bmi = weight / (height ** 2)\n",
        "    return bmi\n",
        "\n",
        "def classify_bmi(bmi):\n",
        "    if bmi is None:\n",
        "        return \"Invalid input\"\n",
        "    elif bmi < 18.5:\n",
        "        return \"Underweight\"\n",
        "    elif bmi < 25:\n",
        "        return \"Normal weight\"\n",
        "    elif bmi < 30:\n",
        "        return \"Overweight\"\n",
        "    else:\n",
        "        return \"Obese\"\n",
        "\n",
        "def main():\n",
        "    print(\"Welcome to the BMI calculator!\")\n",
        "    weight = float(input(\"Enter your weight in kilograms: \"))\n",
        "    height = float(input(\"Enter your height in meters: \"))\n",
        "\n",
        "    bmi = calculate_bmi(weight, height)\n",
        "    category = classify_bmi(bmi)\n",
        "\n",
        "    print(f\"Your BMI is: {bmi:.2f}\")\n",
        "    print(f\"You are classified as: {category}\")\n",
        "\n",
        "if __name__ == \"__main__\":\n",
        "    main()\n"
      ],
      "metadata": {
        "id": "Cb66wQllyrKm"
      },
      "execution_count": null,
      "outputs": []
    }
  ]
}